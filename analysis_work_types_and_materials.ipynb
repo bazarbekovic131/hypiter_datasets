{
 "cells": [
  {
   "cell_type": "code",
   "execution_count": null,
   "metadata": {},
   "outputs": [],
   "source": [
    "import pandas as pd\n",
    "import logging"
   ]
  },
  {
   "cell_type": "code",
   "execution_count": null,
   "metadata": {},
   "outputs": [],
   "source": [
    "# Logging config\n",
    "logging.basicConfig(level=logging.INFO, format='%(asctime)s - %(levelname)s - %(message)s')\n",
    "\n",
    "# Load the Excel file\n",
    "file_path = 'СправочникНовый.xlsx'\n",
    "excel_data = pd.ExcelFile(file_path)\n",
    "\n",
    "# Load the sheet\n",
    "sheet_name = 'Справочник ВР'\n",
    "df = excel_data.parse(sheet_name)\n",
    "\n",
    "# Define the VR categories and their corresponding row numbers (From the excel, visual)\n",
    "vr_categories_updated = {\n",
    "    'Подготовительные работы': 3,\n",
    "    'Земляные работы': 72,\n",
    "    'Устройство фундаментов': 77,\n",
    "    'Устройство сборно-монолитного каркаса': 280,\n",
    "    'Кладка стен и перегородок из мелкоштучных элементов': 2080,\n",
    "    'Внутренние инженерные сети': 2616,\n",
    "    'Устройство внутренних сетей водоснабжения': 2617,\n",
    "    'Устройство внутренних сетей водоотведения. Хозяйственная канализация': 4714,\n",
    "    'Устройство внутренних сетей водоотведения. Дождевая (ливневая) канализация': 4982,\n",
    "    'Устройство внутренних сетей отопления': 5173,\n",
    "    'Устройство внутренних сетей общеобменной вентиляции': 10121,\n",
    "    'Устройство внутренних сетей дымоудаления и подпора': 11449,\n",
    "    'Устройство внутренних сетей кондиционирования': 12794,\n",
    "    'Устройство перегородок и коробов из листовых материалов': 13239,\n",
    "}\n",
    "\n",
    "# Create a new DataFrame for unique entries from column M (Naimenovanie) and the required columns\n",
    "unique_df = df[['Наименование', 'Тип', 'Материальный ресурс', 'Единица измерения']].drop_duplicates().reset_index(drop=True)\n",
    "unique_df = unique_df[['Наименование', 'Тип', 'Материальный ресурс', 'Единица измерения']]  # Ensure only relevant columns remain\n",
    "\n",
    "for vr in vr_categories_updated.keys(): # Add columns for each VR category\n",
    "    unique_df[vr] = 0 # Initiate it with zeros. later on, we will rewrite\n",
    "\n",
    "# Populate the VR columns based on the original data\n",
    "for index, row in df.iterrows():\n",
    "    for vr, start_row in vr_categories_updated.items():\n",
    "        end_row = list(vr_categories_updated.values())[list(vr_categories_updated.keys()).index(vr) + 1] if list(vr_categories_updated.keys()).index(vr) + 1 < len(vr_categories_updated) else len(df)\n",
    "        if start_row <= index < end_row:\n",
    "            naimenovanie = row['Наименование']\n",
    "            if pd.notnull(row['Материальный ресурс']):\n",
    "                logging.info(f\"Processing row {index}, VR: {vr}, Start: {start_row}, End: {end_row}, Naimenovanie: {naimenovanie}\")\n",
    "                unique_df.loc[unique_df['Наименование'] == naimenovanie, vr] = 1\n",
    "                unique_df.loc[unique_df['Наименование'] == naimenovanie, 'Тип'] = 'МР'\n",
    "            else:\n",
    "                logging.warning(f\"Duplicate entry found for {naimenovanie} in {vr}\")\n",
    "                pass"
   ]
  },
  {
   "cell_type": "code",
   "execution_count": null,
   "metadata": {},
   "outputs": [],
   "source": [
    "unique_df # Intermediate output of the resulting DataFrame\n",
    "\n",
    "# Shows all fields, independent whether it has empty data or not."
   ]
  },
  {
   "cell_type": "code",
   "execution_count": null,
   "metadata": {},
   "outputs": [],
   "source": [
    "unique_df = unique_df.dropna(subset=['Материальный ресурс']).reset_index(drop=True) # Drop non MR records"
   ]
  },
  {
   "cell_type": "code",
   "execution_count": null,
   "metadata": {},
   "outputs": [],
   "source": [
    "unique_df # resulting dataframe after dropping non MR entries"
   ]
  },
  {
   "cell_type": "code",
   "execution_count": null,
   "metadata": {},
   "outputs": [],
   "source": [
    "materials_sheet_name = 'Материальные ресурсы' # из Excel Справочник новый (sheet_name)\n",
    "materials_df = excel_data.parse(materials_sheet_name) # read Excel\n",
    "materials_df = materials_df.dropna(subset=['Ресурс']).reset_index(drop=True) # Drop non MR records\n",
    "\n",
    "# Create a set of unique Materialny resurs entries from the unique_df\n",
    "unique_materials = set(unique_df['Наименование'].dropna().unique())\n",
    "\n",
    "# Create a set of Materialny resurs entries from the Материальные ресурсы sheet\n",
    "materials_entries = set(materials_df['Наименование'].dropna().unique())\n",
    "\n"
   ]
  },
  {
   "cell_type": "code",
   "execution_count": null,
   "metadata": {},
   "outputs": [],
   "source": [
    "print(f' Число материалов в новой таблице справочника: {len(unique_materials)}')\n",
    "print(f' Число материалов в оригинальной таблице: {len(materials_entries)}')\n",
    "\n",
    "# Compare the two sets to find missing entries\n",
    "missing_entries = unique_materials - materials_entries\n",
    "\n",
    "# Initialize a counter for missing entries\n",
    "missing_count = len(missing_entries)\n",
    "\n",
    "# Log missing entries\n",
    "if missing_count > 0:\n",
    "    logging.info(f\"Number of missing entries: {missing_count}\")\n",
    "    for entry in missing_entries:\n",
    "        logging.info(f\"Missing entry: {entry}\")\n",
    "else:\n",
    "    logging.info(\"All entries from unique_df are present in Материальные ресурсы.\")"
   ]
  },
  {
   "cell_type": "code",
   "execution_count": null,
   "metadata": {},
   "outputs": [],
   "source": [
    "unique_df # final row"
   ]
  },
  {
   "cell_type": "code",
   "execution_count": null,
   "metadata": {},
   "outputs": [],
   "source": [
    "# Define the VR categories and their corresponding identifiers based on the image provided\n",
    "vr_identifiers = {\n",
    "    'Подготовительные работы': '39098adb-e54d-4537-91dc-8b848b9a020e',\n",
    "    'Земляные работы': '18d66049-7ef5-4dbc-8c76-92e7ed3b6cb9',\n",
    "    'Устройство фундаментов': 'c23b4467-fa80-47e3-9813-9db288fba930',\n",
    "    'Устройство сборно-монолитного каркаса': 'b43873bc-a841-4271-98a2-1685bae3dcb4',\n",
    "    'Кладка стен и перегородок из мелкоштучных элементов': '9f3a9060-b383-4ad5-b49d-1968fa0f810c',\n",
    "    'Устройство внутренних сетей водоснабжения': 'ec6c1dde-f3da-4ae2-91c5-f76b5dd2593d',\n",
    "    'Устройство внутренних сетей водоотведения. Хозяйственная канализация': '5503e09f-d6bb-40ee-90c8-1582e897d787',\n",
    "    'Устройство внутренних сетей водоотведения. Дождевая (ливневая) канализация': '17f5e76e-3eb9-4ef8-a5b9-6bfa9f896242',\n",
    "    'Устройство внутренних сетей отопления': 'd662dfad-5788-40e0-a2ac-305140d3b443',\n",
    "    'Устройство внутренних сетей общеобменной вентиляции': '864be648-7273-4ce5-9fe7-d1b70c008206',\n",
    "    'Устройство внутренних сетей дымоудаления и подпора': 'c6f5f5a0-26de-4cba-af05-2609f930cb80',\n",
    "    'Устройство внутренних сетей кондиционирования': '36fba20b-26e5-44a5-bc2f-f8108e13ae6f',\n",
    "    'Устройство перегородок и коробов из листовых материалов': '61f2425b-377c-4bcd-b34a-ac43ee66b57b',\n",
    "}\n",
    "\n",
    "# Function to get the UUIDs for each row\n",
    "def get_vr_identifiers(row):\n",
    "    identifiers = []\n",
    "    for vr, uuid in vr_identifiers.items():\n",
    "        if row[vr] == 1:\n",
    "            identifiers.append(uuid)\n",
    "    return ', '.join(identifiers)\n",
    "\n",
    "# Apply the function to each row in the dataframe\n",
    "unique_df['VR Identifiers'] = unique_df.apply(get_vr_identifiers, axis=1)\n",
    "unique_df[['Наименование','Единица измерения','VR Identifiers']]\n"
   ]
  },
  {
   "cell_type": "code",
   "execution_count": null,
   "metadata": {},
   "outputs": [],
   "source": [
    "output_file_path_updated = 'Новый Список Материалов Е Курылыс.xlsx'\n",
    "unique_df.to_excel(output_file_path_updated, index=False)\n",
    "print(\"Updated file saved to:\", output_file_path_updated)"
   ]
  },
  {
   "cell_type": "code",
   "execution_count": null,
   "metadata": {},
   "outputs": [],
   "source": [
    "new_spreadsheet = 'Список материалов Е Курылыс Трансформированный.xlsx'\n",
    "\n",
    "transformed_mats = pd.ExcelFile(new_spreadsheet).parse('Sheet1')\n",
    "\n",
    "transformed_mats = transformed_mats[['Наименование', 'Тип', 'Единица измерения', 'VR Identifiers']]\n",
    "\n",
    "data = {\n",
    "    \"шт\": \"b73e69d8-9865-4513-9247-34f8176cf06b\",\n",
    "    \"м2\": \"852b8f74-ac8a-4845-a3c4-b553a741c086\",\n",
    "    \"м3\": \"0ec1268f-9b3a-48da-a9c9-2a89460d7b77\",\n",
    "    \"м\": \"7f3868df-eeb2-4392-809f-1c1d70404155\",\n",
    "    \"м.п.\": \"3d17713e-431d-4633-ba91-c36836419355\",\n",
    "    \"тн\": \"8486fddd-b144-4ab8-8b44-0e0a136a4299\",\n",
    "    \"комплект\": \"0ce19e4a-89fb-4377-8a05-e9225ceb75b9\",\n",
    "    \"кг\": \"61d45879-00d8-40f6-9459-d9aa43286daa\",\n",
    "    \"отверстие\": \"8e0e3761-cc7f-4026-a751-000968c808d1\"\n",
    "}\n",
    "\n",
    "# Function to get the UUIDs for each row\n",
    "def get_type_identifiers(row):\n",
    "    identifiers = []\n",
    "    for vr, uuid in data.items():\n",
    "        if row['Единица измерения'] == vr:\n",
    "            identifiers.append(uuid)\n",
    "    return identifiers\n",
    "\n",
    "# Apply the function to each row in the dataframe\n",
    "unique_df['Ed. Izmerenija Identifiers'] = unique_df.apply(get_type_identifiers, axis=1)"
   ]
  },
  {
   "cell_type": "code",
   "execution_count": null,
   "metadata": {},
   "outputs": [],
   "source": [
    "transformed_mats"
   ]
  },
  {
   "cell_type": "code",
   "execution_count": null,
   "metadata": {},
   "outputs": [],
   "source": [
    "\n",
    "armatura = unique_df[unique_df['Наименование'].str.contains(\"Арматура\", na=False, case = True)].reset_index(drop=True)\n",
    "armatura = armatura[['Наименование', 'Тип', 'Материальный ресурс', 'VR Identifiers']]\n",
    "armatura"
   ]
  },
  {
   "cell_type": "code",
   "execution_count": null,
   "metadata": {},
   "outputs": [],
   "source": [
    "output_file_path_updated = 'список арматура.xlsx'\n",
    "armatura.to_excel(output_file_path_updated, index=False)\n",
    "print(\"Updated file saved to:\", output_file_path_updated)"
   ]
  },
  {
   "cell_type": "code",
   "execution_count": null,
   "metadata": {},
   "outputs": [],
   "source": [
    "# vr_categories_ids = {\n",
    "#     'Подготовительные работы': 3,\n",
    "#     'Земляные работы': 62,\n",
    "#     'Устройство фундаментов': 67,\n",
    "#     'Устройство сборно-монолитного каркаса': 463,\n",
    "#     'Кладка стен и перегородок из мелкоштучных элементов': 2993,\n",
    "#     'Внутренние инженерные сети': 3528,\n",
    "#     'Устройство внутренних сетей водоснабжения': 3529,\n",
    "#     'Устройство внутренних сетей водоотведения. Хозяйственная канализация': 5626,\n",
    "#     'Устройство внутренних сетей водоотведения. Дождевая (ливневая) канализация': 5894,\n",
    "#     'Устройство внутренних сетей отопления': 6085,\n",
    "#     'Устройство внутренних сетей общеобменной вентиляции': 11033,\n",
    "#     'Устройство внутренних сетей дымоудаления и подпора': 12361,\n",
    "#     'Устройство внутренних сетей кондиционирования': 13706,\n",
    "#     'Устройство перегородок и коробов из листовых материалов': 14151,\n",
    "# } \n",
    "# Old record numbers"
   ]
  },
  {
   "cell_type": "code",
   "execution_count": null,
   "metadata": {},
   "outputs": [],
   "source": [
    "import pandas as pd\n",
    "import logging\n",
    "\n",
    "nomenklatura_name = 'номенклатура.xlsx'\n",
    "\n",
    "excel = pd.ExcelFile(nomenklatura_name)\n",
    "\n",
    "nomenklatura_df = excel.parse(\"TDSheet\")"
   ]
  },
  {
   "cell_type": "code",
   "execution_count": null,
   "metadata": {},
   "outputs": [],
   "source": [
    "nomenklatura_df = nomenklatura_df[['Код', 'Наименование', 'Ед. изм.']]\n",
    "\n",
    "unique_items = set(nomenklatura_df['Наименование'].dropna().unique())\n",
    "\n",
    "nomenklatura_df"
   ]
  },
  {
   "cell_type": "code",
   "execution_count": null,
   "metadata": {},
   "outputs": [],
   "source": [
    "len(unique_items)"
   ]
  },
  {
   "cell_type": "code",
   "execution_count": null,
   "metadata": {},
   "outputs": [],
   "source": [
    "import pandas as pd\n",
    "# Logging config\n",
    "logging.basicConfig(level=logging.INFO, format='%(asctime)s - %(levelname)s - %(message)s')\n",
    "\n",
    "# Load the Excel file\n",
    "file_path = 'Статьи затрат.xlsx'\n",
    "excel_data = pd.ExcelFile(file_path)\n",
    "\n",
    "# Load the sheet\n",
    "sheet_name = 'Лист2'\n",
    "df = excel_data.parse(sheet_name)\n",
    "\n",
    "# Define the VR categories and their corresponding row numbers (From the excel, visual)\n",
    "vr_categories_updated = {\n",
    "    'Административные расходы': 0,\n",
    "    'Возврат средств': 20,\n",
    "    'Зарплата': 23,\n",
    "    'Инвестиции в проект': 31,\n",
    "    'Накладные расходы': 35,\n",
    "    'Налоги': 48,\n",
    "    'Переток средств': 66,\n",
    "    'ПИР': 68,\n",
    "    'СМР': 78,\n",
    "    'ТМЦ': 108,\n",
    "    'Финансовые затраты': 140,\n",
    "    'Коммерческие расходы': 145,\n",
    "}\n",
    "\n",
    "expenses = {\n",
    "    \"Финансовые затраты\": \"93cbdede-7410-414f-aa08-b8444a71540b\",\n",
    "    \"ТМЦ\": \"a2f43068-5748-477c-963e-ff3936d38ecc\",\n",
    "    \"СМР\": \"ec192c19-2e73-4976-884c-95c0870a840e\",\n",
    "    \"ПИР\": \"7945f171-9467-4116-be13-032892c597fe\",\n",
    "    \"Переток средств\": \"e9e6e176-be86-4996-8be8-13961994dbe0\",\n",
    "    \"Налоги\": \"ecdtfce9-7bf3-41de-842a-0c3c787b2ee8\",\n",
    "    \"Накладные расходы\": \"660d7d01-ae83-46d3-b8ea-7977763c9e72\",\n",
    "    \"Инвестиции в проект\": \"Oaeb23e6-fd4b-444e-851d-db59ac250e4d\",\n",
    "    \"Зарплата\": \"77f4bb6-46e6-40b9-8ea2-db402efa8ea8\",\n",
    "    \"Возврат средств\": \"9870d056-1163-46c6-8905-0690ad3b6b45\",\n",
    "    \"Административные расходы\": \"4719ce35-99c8-4386-a512-a268d1f408f2\",\n",
    "    \"Коммерческие расходы\": \"2cfe3d77-8f33-4a77-b430-Flceaba47d9c\"\n",
    "}\n",
    "\n",
    "# Create a new DataFrame for unique entries from column M (Naimenovanie) and the required columns\n",
    "unique_df = df[['Виды затрат', 'ТРУ']].drop_duplicates().reset_index(drop=True)\n",
    "\n",
    "for vr in expenses.keys(): # Add columns for each VR category\n",
    "    unique_df[vr] = 0 # Initiate it with zeros. later on, we will rewrite\n",
    "\n",
    "# Populate the VR columns based on the original data\n",
    "for index, row in df.iterrows():\n",
    "    for vr, start_row in vr_categories_updated.items():\n",
    "        end_row = list(vr_categories_updated.values())[list(vr_categories_updated.keys()).index(vr) + 1] if list(vr_categories_updated.keys()).index(vr) + 1 < len(vr_categories_updated) else len(df)\n",
    "        if start_row <= index < end_row:\n",
    "            naimenovanie = row['ТРУ']\n",
    "            if pd.notnull(row['ТРУ']):\n",
    "                logging.info(f\"Processing row {index}, VR: {vr}, Start: {start_row}, End: {end_row}, Naimenovanie: {naimenovanie}\")\n",
    "                unique_df.loc[unique_df['ТРУ'] == naimenovanie, vr] = 1\n",
    "            else:\n",
    "                logging.warning(f\"Duplicate entry found for {naimenovanie} in {vr}\")\n",
    "                pass\n",
    "\n",
    "# Function to get the UUIDs for each row\n",
    "def get_type_identifiers(row):\n",
    "    identifiers = []\n",
    "    for vr, uuid in expenses.items():\n",
    "        if row[vr] == 1:\n",
    "            identifiers.append(uuid)\n",
    "    return ', '.join(identifiers)\n",
    "\n",
    "# Apply the function to each row in the dataframe\n",
    "unique_df['TRU_ID'] = unique_df.apply(get_type_identifiers, axis=1)"
   ]
  },
  {
   "cell_type": "code",
   "execution_count": null,
   "metadata": {},
   "outputs": [],
   "source": [
    "unique_df = unique_df.dropna(subset=['ТРУ']).reset_index()\n",
    "output_file_path_updated = 'docv_tru.xlsx'\n",
    "unique_df.to_excel(output_file_path_updated, index=False)\n",
    "print(\"Updated file saved to:\", output_file_path_updated)"
   ]
  },
  {
   "cell_type": "code",
   "execution_count": null,
   "metadata": {},
   "outputs": [],
   "source": [
    "unique_df"
   ]
  }
 ],
 "metadata": {
  "kernelspec": {
   "display_name": "base",
   "language": "python",
   "name": "python3"
  },
  "language_info": {
   "codemirror_mode": {
    "name": "ipython",
    "version": 3
   },
   "file_extension": ".py",
   "mimetype": "text/x-python",
   "name": "python",
   "nbconvert_exporter": "python",
   "pygments_lexer": "ipython3",
   "version": "3.1.undefined"
  }
 },
 "nbformat": 4,
 "nbformat_minor": 2
}
