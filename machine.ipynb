{
 "cells": [
  {
   "cell_type": "markdown",
   "metadata": {},
   "source": [
    "# Machine Learning\n",
    "\n",
    "## Исследовательский анализ данных\n",
    "\n",
    "Продолжаем исследовать данные из crops_usa.csv.\n",
    "\n",
    "Во-первых, стоит проверить содержание столбцов Year и State — действительно ли в датасете представлены данные за все 40 лет и по всем штатам.\n",
    "\n",
    "И, во-вторых, построить графики по существующим столбцам. Например, интересно посмотреть, насколько штаты различаются по посевным площадям и объёму урожая. Лучше всего это позволит выявить столбчатая диаграмма.\n",
    "\n",
    "Но прежде чем строить диаграмму, познакомьтесь с новыми инструментами."
   ]
  },
  {
   "cell_type": "code",
   "execution_count": null,
   "metadata": {},
   "outputs": [],
   "source": [
    "# импортируйте библиотеку pandas\n",
    "import pandas as pd\n",
    "# прочитайте файл и сохраните его в переменной data\n",
    "data=pd.read_csv(\"crops_usa.csv\")\n",
    "# выведите data на экран\n",
    "data.head() # main data"
   ]
  },
  {
   "cell_type": "code",
   "execution_count": null,
   "metadata": {},
   "outputs": [],
   "source": [
    "states = data[\"State\"].unique() # list of unique entries\n",
    "print(states)\n",
    "\n",
    "states_unique_count = data['State'].nunique() # count of unique entries\n",
    "print(states_unique_count)"
   ]
  },
  {
   "cell_type": "markdown",
   "metadata": {},
   "source": [
    "# Логическая индексация в столбце\n",
    "\n",
    "В прошлой теме вы научились отбирать нужные значения из столбцов по их порядковому номеру, или индексу. Так вы выбирали недели рекламных кампаний. А что делать, если мы хотим отобрать данные за определённый год, но порядковых номеров не знаем? Выход — добавить условие. Такой приём в pandas называют логической индексацией.\n",
    "Покажем на практике. Выберем все значения из столбца Production, для которых год (столбец Year) равен 2018:"
   ]
  },
  {
   "cell_type": "code",
   "execution_count": null,
   "metadata": {},
   "outputs": [],
   "source": [
    "production_2018 = data[data['Year'] == 2018]['Production']\n",
    "print(production_2018)\n",
    "\n",
    "years_unique = data['Year'].unique()\n",
    "\n",
    "# количество уникальных значений столбца Year\n",
    "years_unique_count = data['Year'].nunique()\n",
    "\n",
    "print(years_unique)\n",
    "print(years_unique_count)"
   ]
  },
  {
   "cell_type": "markdown",
   "metadata": {},
   "source": [
    "Постройте столбчатую диаграмму, отражающую площадь посевов для каждого штата за 2019 год. По оси X разместите значения переменной acres_2019, а по оси Y — states_2019."
   ]
  },
  {
   "cell_type": "code",
   "execution_count": null,
   "metadata": {},
   "outputs": [],
   "source": [
    "import matplotlib\n",
    "import seaborn\n",
    "\n",
    "matplotlib.rcParams['figure.figsize'] = [10, 7] # указываем размер графика\n",
    "\n",
    "acres_2019 = data[data['Year'] == 2019]['Acres']\n",
    "states_2019 = data[data['Year'] == 2019]['State']"
   ]
  },
  {
   "cell_type": "code",
   "execution_count": null,
   "metadata": {},
   "outputs": [],
   "source": [
    "# значения столбца Production за 2019 год\n",
    "production_2019 = data[data['Year'] == 2019]['Production']\n",
    "states_2019 = data[data['Year'] == 2019]['State']\n",
    "\n",
    "\n",
    "# постройте столбчатую диаграмму\n",
    "seaborn.barplot(x=production_2019, y=states_2019)"
   ]
  },
  {
   "cell_type": "code",
   "execution_count": null,
   "metadata": {},
   "outputs": [],
   "source": [
    "# 1) группируем данные по году (Year) с помощью groupby('Year')\n",
    "# 2) достаём из сгруппированной таблицы только столбец с площадью посевов\n",
    "# 3) суммируем значения в каждой группе с помощью sum()\n",
    "acres_usa = data.groupby('Year')['Acres'].sum()\n",
    "print(acres_usa)\n",
    "production_usa = data.groupby('Year')['Production'].sum()\n",
    "\n",
    "# Делим значения столбца production_usa на значения столбца acres_usa,\n",
    "# получаем урожайность и сохраняем её в yield_usa\n",
    "yield_usa = production_usa / acres_usa\n",
    "\n",
    "# достаём индексы (порядковые номера) столбца acres_usa, это числа от 1980 до 2019\n",
    "years_unique = acres_usa.index.values\n",
    "\n",
    "# постройте столбчатую диаграмму урожайности по годам\n",
    "seaborn.barplot(x=years_unique, y= yield_usa)\n"
   ]
  },
  {
   "cell_type": "markdown",
   "metadata": {},
   "source": [
    "На этапе уточнения вы сформулировали задачу так: «Определить, что даст более точный прогноз объёма урожая: предсказание площади посевов или урожайности».\n",
    "Объём урожая (production) за определённый год (t) вычисляется как площадь засеянных в этом году полей (acres) умножить на урожайность (yield) за тот же год:\n",
    "​$$production_t = acres_t \\cdot yield_t$$\n",
    " \n",
    "Самый точный прогноз получится, если предсказать и площадь посевов, и урожайность. Однако Герман может предсказать только один фактор, а второй планирует взять из данных за предыдущий год. Значит, есть две стратегии:\n",
    "предсказать площадь посевов, а урожайность взять за предыдущий год;\n",
    "предсказать урожайность, а площадь посевов взять за предыдущий год.\n",
    "Какая даст более точный прогноз урожая? Ответив на этот вопрос, вы решите задачу."
   ]
  },
  {
   "cell_type": "code",
   "execution_count": null,
   "metadata": {},
   "outputs": [],
   "source": [
    "# группируем значения Acres и Production по годам и суммируем по каждой группе\n",
    "acres_usa = data.groupby('Year')['Acres'].sum()\n",
    "production_usa = data.groupby('Year')['Production'].sum()\n",
    "\n",
    "# Делим значения столбца production_usa на значения столбца acres_usa,\n",
    "# получаем урожайность и сохраняем её в yield_usa\n",
    "yield_usa = production_usa / acres_usa\n",
    "\n",
    "# Умножьте площадь посевов за каждый год\n",
    "# на урожайность за предыдущий год,\n",
    "# получив её с помощью команды shift(1)\n",
    "predict_acres = acres_usa * yield_usa.shift(1)\n",
    "print(predict_acres)"
   ]
  },
  {
   "cell_type": "code",
   "execution_count": null,
   "metadata": {},
   "outputs": [],
   "source": [
    "# группируем значения Acres и Production по годам и суммируем по каждой группе\n",
    "acres_usa = data.groupby('Year')['Acres'].sum()\n",
    "production_usa = data.groupby('Year')['Production'].sum()\n",
    "\n",
    "# Делим значения столбца production_usa на значения столбца acres_usa,\n",
    "# получаем урожайность и сохраняем её в yield_usa\n",
    "yield_usa = production_usa / acres_usa\n",
    "\n",
    "# Умножаем площадь посевов за каждый год\n",
    "# на урожайность за предыдущий год\n",
    "predict_acres = acres_usa * yield_usa.shift(1)\n",
    "print(predict_acres)\n",
    "\n",
    "# пустая строка, чтобы разделить два результата\n",
    "print()\n",
    "\n",
    "# Умножьте урожайность за каждый год\n",
    "# на площадь посевов за предыдущий год,\n",
    "# получив её с помощью команды shift(1)\n",
    "predict_yield = acres_usa.shift(1) * yield_usa\n",
    "print(predict_yield)"
   ]
  },
  {
   "cell_type": "code",
   "execution_count": null,
   "metadata": {},
   "outputs": [],
   "source": [
    "\n",
    "# группируем значения Acres и Production по годам и суммируем по каждой группе\n",
    "acres_usa = data.groupby('Year')['Acres'].sum()\n",
    "production_usa = data.groupby('Year')['Production'].sum()\n",
    "\n",
    "# Делим значения столбца production_usa на значения столбца acres_usa,\n",
    "# получаем урожайность и сохраняем её в yield_usa\n",
    "yield_usa = production_usa / acres_usa\n",
    "\n",
    "# Первая стратегия:\n",
    "# умножим площадь посевов за каждый год\n",
    "# на урожайность за предыдущий год (то есть со сдвигом на 1)\n",
    "predict_acres = acres_usa * yield_usa.shift(1)\n",
    "\n",
    "# ошибка — это разность между реальными значениями и предсказанными\n",
    "error_acres = production_usa - predict_acres\n",
    "# Удаляем самое первое значение методом dropna(),\n",
    "# оно не понадобится, ведь данных за 1979 год нет,\n",
    "# и разность находить не с чем\n",
    "error_acres = error_acres.dropna()\n",
    "\n",
    "# достаём индексы столбца error_acres — теперь это числа с 1981 до 2019\n",
    "years_numbers = error_acres.index.values\n",
    "\n",
    "seaborn.barplot(x=years_numbers, y=error_acres)"
   ]
  },
  {
   "cell_type": "code",
   "execution_count": null,
   "metadata": {},
   "outputs": [],
   "source": [
    "# группируем значения Acres и Production по годам и суммируем по каждой группе\n",
    "acres_usa = data.groupby('Year')['Acres'].sum()\n",
    "production_usa = data.groupby('Year')['Production'].sum()\n",
    "\n",
    "# Делим значения столбца production_usa на значения столбца acres_usa,\n",
    "# получаем урожайность и сохраняем её в yield_usa\n",
    "yield_usa = production_usa / acres_usa\n",
    "\n",
    "# Вторая стратегия:\n",
    "# площадь посевов прошлогодняя (то есть со сдвигом на 1),\n",
    "# а урожайность настоящая\n",
    "predict_yield = acres_usa.shift(1) * yield_usa\n",
    "\n",
    "# ошибка — это разность между реальными значениями и предсказанными\n",
    "error_yield = production_usa - predict_yield\n",
    "# Удаляем самое первое значение методом dropna(),\n",
    "# оно не понадобится, ведь данных за 1979 год нет,\n",
    "# и разность находить не с чем\n",
    "error_yield = error_yield.dropna()\n",
    "\n",
    "# достаём индексы столбца error_acres — это числа с 1981 до 2019\n",
    "years_numbers = error_yield.index.values\n",
    "\n",
    "# постройте столбчатую диаграмму\n",
    "seaborn.barplot(x=years_numbers, y=error_yield)"
   ]
  }
 ],
 "metadata": {
  "language_info": {
   "name": "python"
  }
 },
 "nbformat": 4,
 "nbformat_minor": 2
}
